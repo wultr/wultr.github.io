{
 "cells": [
  {
   "cell_type": "code",
   "execution_count": 1,
   "id": "2ada19c1-e928-4a67-8b52-60b39afc4f5b",
   "metadata": {},
   "outputs": [],
   "source": [
    "import pandas as pd\n",
    "import numpy as np\n",
    "import matplotlib.pyplot as plt"
   ]
  },
  {
   "cell_type": "code",
   "execution_count": 2,
   "id": "0e92977f-3e1d-402f-9788-2e0f3cdc594c",
   "metadata": {},
   "outputs": [],
   "source": [
    "data = pd.read_csv('openpowerlifting.csv', low_memory = False)"
   ]
  },
  {
   "cell_type": "markdown",
   "id": "1516c457-66a8-4cbd-b60d-ad0a0d5e0279",
   "metadata": {},
   "source": [
    "Tutorial:\n",
    "1) Introduce the subject of powerlifting and ipf standardization. \n",
    "2) Show how to attain and prepare data to only look at ipf data\n",
    "3) Split the data by sex and discuss shortly the policies of ipf regarding sex\n",
    "4) Introduce questions we have regarding the subject\n",
    "5) Take an example set like the junior league to best answer these questions\n"
   ]
  },
  {
   "cell_type": "code",
   "execution_count": 4,
   "id": "1c04e08d-19cf-41db-ae3d-12d0ad21916c",
   "metadata": {},
   "outputs": [
    {
     "data": {
      "text/html": [
       "<div>\n",
       "<style scoped>\n",
       "    .dataframe tbody tr th:only-of-type {\n",
       "        vertical-align: middle;\n",
       "    }\n",
       "\n",
       "    .dataframe tbody tr th {\n",
       "        vertical-align: top;\n",
       "    }\n",
       "\n",
       "    .dataframe thead th {\n",
       "        text-align: right;\n",
       "    }\n",
       "</style>\n",
       "<table border=\"1\" class=\"dataframe\">\n",
       "  <thead>\n",
       "    <tr style=\"text-align: right;\">\n",
       "      <th></th>\n",
       "      <th>Name</th>\n",
       "      <th>Sex</th>\n",
       "      <th>Event</th>\n",
       "      <th>Equipment</th>\n",
       "      <th>Age</th>\n",
       "      <th>AgeClass</th>\n",
       "      <th>BirthYearClass</th>\n",
       "      <th>Division</th>\n",
       "      <th>BodyweightKg</th>\n",
       "      <th>WeightClassKg</th>\n",
       "      <th>...</th>\n",
       "      <th>Tested</th>\n",
       "      <th>Country</th>\n",
       "      <th>State</th>\n",
       "      <th>Federation</th>\n",
       "      <th>ParentFederation</th>\n",
       "      <th>Date</th>\n",
       "      <th>MeetCountry</th>\n",
       "      <th>MeetState</th>\n",
       "      <th>MeetTown</th>\n",
       "      <th>MeetName</th>\n",
       "    </tr>\n",
       "  </thead>\n",
       "  <tbody>\n",
       "    <tr>\n",
       "      <th>0</th>\n",
       "      <td>Alona Vladi</td>\n",
       "      <td>F</td>\n",
       "      <td>SBD</td>\n",
       "      <td>Raw</td>\n",
       "      <td>33.0</td>\n",
       "      <td>24-34</td>\n",
       "      <td>24-39</td>\n",
       "      <td>O</td>\n",
       "      <td>58.30</td>\n",
       "      <td>60</td>\n",
       "      <td>...</td>\n",
       "      <td>Yes</td>\n",
       "      <td>Russia</td>\n",
       "      <td>NaN</td>\n",
       "      <td>GFP</td>\n",
       "      <td>NaN</td>\n",
       "      <td>2019-05-11</td>\n",
       "      <td>Russia</td>\n",
       "      <td>NaN</td>\n",
       "      <td>Bryansk</td>\n",
       "      <td>Open Tournament</td>\n",
       "    </tr>\n",
       "    <tr>\n",
       "      <th>1</th>\n",
       "      <td>Galina Solovyanova</td>\n",
       "      <td>F</td>\n",
       "      <td>SBD</td>\n",
       "      <td>Raw</td>\n",
       "      <td>43.0</td>\n",
       "      <td>40-44</td>\n",
       "      <td>40-49</td>\n",
       "      <td>M1</td>\n",
       "      <td>73.10</td>\n",
       "      <td>75</td>\n",
       "      <td>...</td>\n",
       "      <td>Yes</td>\n",
       "      <td>Russia</td>\n",
       "      <td>NaN</td>\n",
       "      <td>GFP</td>\n",
       "      <td>NaN</td>\n",
       "      <td>2019-05-11</td>\n",
       "      <td>Russia</td>\n",
       "      <td>NaN</td>\n",
       "      <td>Bryansk</td>\n",
       "      <td>Open Tournament</td>\n",
       "    </tr>\n",
       "    <tr>\n",
       "      <th>2</th>\n",
       "      <td>Daniil Voronin</td>\n",
       "      <td>M</td>\n",
       "      <td>SBD</td>\n",
       "      <td>Raw</td>\n",
       "      <td>15.5</td>\n",
       "      <td>16-17</td>\n",
       "      <td>14-18</td>\n",
       "      <td>T</td>\n",
       "      <td>67.40</td>\n",
       "      <td>75</td>\n",
       "      <td>...</td>\n",
       "      <td>Yes</td>\n",
       "      <td>Russia</td>\n",
       "      <td>NaN</td>\n",
       "      <td>GFP</td>\n",
       "      <td>NaN</td>\n",
       "      <td>2019-05-11</td>\n",
       "      <td>Russia</td>\n",
       "      <td>NaN</td>\n",
       "      <td>Bryansk</td>\n",
       "      <td>Open Tournament</td>\n",
       "    </tr>\n",
       "    <tr>\n",
       "      <th>3</th>\n",
       "      <td>Aleksey Krasov</td>\n",
       "      <td>M</td>\n",
       "      <td>SBD</td>\n",
       "      <td>Raw</td>\n",
       "      <td>35.0</td>\n",
       "      <td>35-39</td>\n",
       "      <td>24-39</td>\n",
       "      <td>O</td>\n",
       "      <td>66.65</td>\n",
       "      <td>75</td>\n",
       "      <td>...</td>\n",
       "      <td>Yes</td>\n",
       "      <td>Russia</td>\n",
       "      <td>NaN</td>\n",
       "      <td>GFP</td>\n",
       "      <td>NaN</td>\n",
       "      <td>2019-05-11</td>\n",
       "      <td>Russia</td>\n",
       "      <td>NaN</td>\n",
       "      <td>Bryansk</td>\n",
       "      <td>Open Tournament</td>\n",
       "    </tr>\n",
       "    <tr>\n",
       "      <th>4</th>\n",
       "      <td>Margarita Pleschenkova</td>\n",
       "      <td>M</td>\n",
       "      <td>SBD</td>\n",
       "      <td>Raw</td>\n",
       "      <td>26.5</td>\n",
       "      <td>24-34</td>\n",
       "      <td>24-39</td>\n",
       "      <td>O</td>\n",
       "      <td>72.45</td>\n",
       "      <td>75</td>\n",
       "      <td>...</td>\n",
       "      <td>Yes</td>\n",
       "      <td>Russia</td>\n",
       "      <td>NaN</td>\n",
       "      <td>GFP</td>\n",
       "      <td>NaN</td>\n",
       "      <td>2019-05-11</td>\n",
       "      <td>Russia</td>\n",
       "      <td>NaN</td>\n",
       "      <td>Bryansk</td>\n",
       "      <td>Open Tournament</td>\n",
       "    </tr>\n",
       "  </tbody>\n",
       "</table>\n",
       "<p>5 rows × 41 columns</p>\n",
       "</div>"
      ],
      "text/plain": [
       "                     Name Sex Event Equipment   Age AgeClass BirthYearClass  \\\n",
       "0             Alona Vladi   F   SBD       Raw  33.0    24-34          24-39   \n",
       "1      Galina Solovyanova   F   SBD       Raw  43.0    40-44          40-49   \n",
       "2          Daniil Voronin   M   SBD       Raw  15.5    16-17          14-18   \n",
       "3          Aleksey Krasov   M   SBD       Raw  35.0    35-39          24-39   \n",
       "4  Margarita Pleschenkova   M   SBD       Raw  26.5    24-34          24-39   \n",
       "\n",
       "  Division  BodyweightKg WeightClassKg  ...  Tested  Country  State  \\\n",
       "0        O         58.30            60  ...     Yes   Russia    NaN   \n",
       "1       M1         73.10            75  ...     Yes   Russia    NaN   \n",
       "2        T         67.40            75  ...     Yes   Russia    NaN   \n",
       "3        O         66.65            75  ...     Yes   Russia    NaN   \n",
       "4        O         72.45            75  ...     Yes   Russia    NaN   \n",
       "\n",
       "   Federation  ParentFederation        Date  MeetCountry  MeetState  MeetTown  \\\n",
       "0         GFP               NaN  2019-05-11       Russia        NaN   Bryansk   \n",
       "1         GFP               NaN  2019-05-11       Russia        NaN   Bryansk   \n",
       "2         GFP               NaN  2019-05-11       Russia        NaN   Bryansk   \n",
       "3         GFP               NaN  2019-05-11       Russia        NaN   Bryansk   \n",
       "4         GFP               NaN  2019-05-11       Russia        NaN   Bryansk   \n",
       "\n",
       "          MeetName  \n",
       "0  Open Tournament  \n",
       "1  Open Tournament  \n",
       "2  Open Tournament  \n",
       "3  Open Tournament  \n",
       "4  Open Tournament  \n",
       "\n",
       "[5 rows x 41 columns]"
      ]
     },
     "execution_count": 4,
     "metadata": {},
     "output_type": "execute_result"
    }
   ],
   "source": [
    "data.head()"
   ]
  },
  {
   "cell_type": "markdown",
   "id": "cc47b290-2b02-49e3-9c86-eb57f5dbf45b",
   "metadata": {},
   "source": [
    "Powerlifting competitions consist of three main event: the squat (S), bench (B), and deadlift (D). Athletes are given a maximum of three attempts at each event and the highest, successful lift will count towards their total score (TotalKg) for the event. The winner of the event is the athlete with the highest score and everyone receives a placement (in 'Place'). In the case two athletes tie, the lifter with the lightest bodyweight wins."
   ]
  },
  {
   "cell_type": "markdown",
   "id": "ac05467f-9de8-4216-9c77-4a5b7620d794",
   "metadata": {},
   "source": [
    "Athlete competitions are typically split by sex, body weight, age, and equipment. Competitions are first broken into male and female competitions. USAPowerlifting have released participation policies for transgender athletes which allow them to compete under certain circumstances. Once athletes are divided by sex, they are typically split into age groups. Sub-Junior is for athletes between 14 and 18. Junior for athletes between 19 and 23. Masters I is 30-39, Masters II is 40-49, and up to Masters IV which is 70 and above. Any athlete is also elgible to join the Open division for all ages above 14."
   ]
  },
  {
   "cell_type": "markdown",
   "id": "c06bcdeb-075e-4d43-8248-c5a7a76d8517",
   "metadata": {},
   "source": [
    "Once an athlete has entered an age category, they are then split into bodyweight categories. The men's competition has weight classes: up to 59.0kg, a 59.01kg - 66.00kg, 66.01kg - 74.00kg, 74.01kg - 83.00kg, 83.01kg - 93.00kg, 93.01kg - 105.00kg, 105.01kg - 120.00kg, and 120.01kg+ class. The Sub-Junior and Junior class are unique such that they have an additional class with a weight limit of up to 53.0kg."
   ]
  },
  {
   "cell_type": "markdown",
   "id": "224c2390-a49c-4e88-b41b-6e417de5e712",
   "metadata": {},
   "source": [
    "An athletes placing can be a positive number, which is just the place the athlete came in. If it's G, it means the lifter has successful lifts but wasn't elgible for rewards. DQ means the lifter was disqualified for failed attempts / procedural reasons. DD is a doping disqualification, meaning the athlete failed a drug test. Finally, NS is a No-Show athlete. "
   ]
  },
  {
   "cell_type": "markdown",
   "id": "b513dcce-b27e-41ab-aa88-e5396264b555",
   "metadata": {},
   "source": [
    "We will be looking exclusively at events organized by the International Powerlifting Federation (IPF) or its affiliates. These events allow lifters to compete in different divisisions nationally and internationally. The IPF also has the most detailed information on categories, successful lifts, and placements. "
   ]
  },
  {
   "cell_type": "code",
   "execution_count": 5,
   "id": "c01db7b1-db9b-4635-82dd-0fd02751c6ac",
   "metadata": {},
   "outputs": [],
   "source": [
    "data_ipf = data[data['ParentFederation'] == 'IPF']"
   ]
  },
  {
   "cell_type": "code",
   "execution_count": null,
   "id": "a06007fc-c3d0-42ce-af08-d57af9150d2d",
   "metadata": {},
   "outputs": [],
   "source": []
  },
  {
   "cell_type": "code",
   "execution_count": 6,
   "id": "25434abf-22c4-4fe2-a814-548b4802cef4",
   "metadata": {},
   "outputs": [
    {
     "data": {
      "text/html": [
       "<div>\n",
       "<style scoped>\n",
       "    .dataframe tbody tr th:only-of-type {\n",
       "        vertical-align: middle;\n",
       "    }\n",
       "\n",
       "    .dataframe tbody tr th {\n",
       "        vertical-align: top;\n",
       "    }\n",
       "\n",
       "    .dataframe thead th {\n",
       "        text-align: right;\n",
       "    }\n",
       "</style>\n",
       "<table border=\"1\" class=\"dataframe\">\n",
       "  <thead>\n",
       "    <tr style=\"text-align: right;\">\n",
       "      <th></th>\n",
       "      <th>Name</th>\n",
       "      <th>Sex</th>\n",
       "      <th>Event</th>\n",
       "      <th>Equipment</th>\n",
       "      <th>Age</th>\n",
       "      <th>AgeClass</th>\n",
       "      <th>BirthYearClass</th>\n",
       "      <th>Division</th>\n",
       "      <th>BodyweightKg</th>\n",
       "      <th>WeightClassKg</th>\n",
       "      <th>...</th>\n",
       "      <th>Tested</th>\n",
       "      <th>Country</th>\n",
       "      <th>State</th>\n",
       "      <th>Federation</th>\n",
       "      <th>ParentFederation</th>\n",
       "      <th>Date</th>\n",
       "      <th>MeetCountry</th>\n",
       "      <th>MeetState</th>\n",
       "      <th>MeetTown</th>\n",
       "      <th>MeetName</th>\n",
       "    </tr>\n",
       "  </thead>\n",
       "  <tbody>\n",
       "    <tr>\n",
       "      <th>4459</th>\n",
       "      <td>Karen Thomson</td>\n",
       "      <td>F</td>\n",
       "      <td>SBD</td>\n",
       "      <td>Single-ply</td>\n",
       "      <td>39.5</td>\n",
       "      <td>35-39</td>\n",
       "      <td>40-49</td>\n",
       "      <td>Masters 1</td>\n",
       "      <td>51.90</td>\n",
       "      <td>52</td>\n",
       "      <td>...</td>\n",
       "      <td>Yes</td>\n",
       "      <td>New Zealand</td>\n",
       "      <td>NaN</td>\n",
       "      <td>OceaniaPF</td>\n",
       "      <td>IPF</td>\n",
       "      <td>2002-12-06</td>\n",
       "      <td>New Zealand</td>\n",
       "      <td>BOP</td>\n",
       "      <td>Tauranga</td>\n",
       "      <td>Oceania Championships</td>\n",
       "    </tr>\n",
       "    <tr>\n",
       "      <th>4460</th>\n",
       "      <td>Deborah Groves</td>\n",
       "      <td>F</td>\n",
       "      <td>SBD</td>\n",
       "      <td>Single-ply</td>\n",
       "      <td>30.5</td>\n",
       "      <td>24-34</td>\n",
       "      <td>24-39</td>\n",
       "      <td>Open</td>\n",
       "      <td>50.64</td>\n",
       "      <td>52</td>\n",
       "      <td>...</td>\n",
       "      <td>Yes</td>\n",
       "      <td>Australia</td>\n",
       "      <td>NaN</td>\n",
       "      <td>OceaniaPF</td>\n",
       "      <td>IPF</td>\n",
       "      <td>2002-12-06</td>\n",
       "      <td>New Zealand</td>\n",
       "      <td>BOP</td>\n",
       "      <td>Tauranga</td>\n",
       "      <td>Oceania Championships</td>\n",
       "    </tr>\n",
       "    <tr>\n",
       "      <th>4461</th>\n",
       "      <td>Renee Orbon</td>\n",
       "      <td>F</td>\n",
       "      <td>SBD</td>\n",
       "      <td>Single-ply</td>\n",
       "      <td>31.5</td>\n",
       "      <td>24-34</td>\n",
       "      <td>24-39</td>\n",
       "      <td>Open</td>\n",
       "      <td>55.76</td>\n",
       "      <td>56</td>\n",
       "      <td>...</td>\n",
       "      <td>Yes</td>\n",
       "      <td>New Zealand</td>\n",
       "      <td>NaN</td>\n",
       "      <td>OceaniaPF</td>\n",
       "      <td>IPF</td>\n",
       "      <td>2002-12-06</td>\n",
       "      <td>New Zealand</td>\n",
       "      <td>BOP</td>\n",
       "      <td>Tauranga</td>\n",
       "      <td>Oceania Championships</td>\n",
       "    </tr>\n",
       "    <tr>\n",
       "      <th>4462</th>\n",
       "      <td>Rikki Flanders</td>\n",
       "      <td>F</td>\n",
       "      <td>SBD</td>\n",
       "      <td>Single-ply</td>\n",
       "      <td>31.5</td>\n",
       "      <td>24-34</td>\n",
       "      <td>24-39</td>\n",
       "      <td>Open</td>\n",
       "      <td>56.42</td>\n",
       "      <td>60</td>\n",
       "      <td>...</td>\n",
       "      <td>Yes</td>\n",
       "      <td>Australia</td>\n",
       "      <td>NaN</td>\n",
       "      <td>OceaniaPF</td>\n",
       "      <td>IPF</td>\n",
       "      <td>2002-12-06</td>\n",
       "      <td>New Zealand</td>\n",
       "      <td>BOP</td>\n",
       "      <td>Tauranga</td>\n",
       "      <td>Oceania Championships</td>\n",
       "    </tr>\n",
       "    <tr>\n",
       "      <th>4463</th>\n",
       "      <td>Julie Hallmond</td>\n",
       "      <td>F</td>\n",
       "      <td>SBD</td>\n",
       "      <td>Single-ply</td>\n",
       "      <td>NaN</td>\n",
       "      <td>NaN</td>\n",
       "      <td>50-59</td>\n",
       "      <td>Masters 2</td>\n",
       "      <td>58.20</td>\n",
       "      <td>60</td>\n",
       "      <td>...</td>\n",
       "      <td>Yes</td>\n",
       "      <td>New Zealand</td>\n",
       "      <td>NaN</td>\n",
       "      <td>OceaniaPF</td>\n",
       "      <td>IPF</td>\n",
       "      <td>2002-12-06</td>\n",
       "      <td>New Zealand</td>\n",
       "      <td>BOP</td>\n",
       "      <td>Tauranga</td>\n",
       "      <td>Oceania Championships</td>\n",
       "    </tr>\n",
       "  </tbody>\n",
       "</table>\n",
       "<p>5 rows × 41 columns</p>\n",
       "</div>"
      ],
      "text/plain": [
       "                Name Sex Event   Equipment   Age AgeClass BirthYearClass  \\\n",
       "4459   Karen Thomson   F   SBD  Single-ply  39.5    35-39          40-49   \n",
       "4460  Deborah Groves   F   SBD  Single-ply  30.5    24-34          24-39   \n",
       "4461     Renee Orbon   F   SBD  Single-ply  31.5    24-34          24-39   \n",
       "4462  Rikki Flanders   F   SBD  Single-ply  31.5    24-34          24-39   \n",
       "4463  Julie Hallmond   F   SBD  Single-ply   NaN      NaN          50-59   \n",
       "\n",
       "       Division  BodyweightKg WeightClassKg  ...  Tested      Country  State  \\\n",
       "4459  Masters 1         51.90            52  ...     Yes  New Zealand    NaN   \n",
       "4460       Open         50.64            52  ...     Yes    Australia    NaN   \n",
       "4461       Open         55.76            56  ...     Yes  New Zealand    NaN   \n",
       "4462       Open         56.42            60  ...     Yes    Australia    NaN   \n",
       "4463  Masters 2         58.20            60  ...     Yes  New Zealand    NaN   \n",
       "\n",
       "      Federation  ParentFederation        Date  MeetCountry  MeetState  \\\n",
       "4459   OceaniaPF               IPF  2002-12-06  New Zealand        BOP   \n",
       "4460   OceaniaPF               IPF  2002-12-06  New Zealand        BOP   \n",
       "4461   OceaniaPF               IPF  2002-12-06  New Zealand        BOP   \n",
       "4462   OceaniaPF               IPF  2002-12-06  New Zealand        BOP   \n",
       "4463   OceaniaPF               IPF  2002-12-06  New Zealand        BOP   \n",
       "\n",
       "      MeetTown               MeetName  \n",
       "4459  Tauranga  Oceania Championships  \n",
       "4460  Tauranga  Oceania Championships  \n",
       "4461  Tauranga  Oceania Championships  \n",
       "4462  Tauranga  Oceania Championships  \n",
       "4463  Tauranga  Oceania Championships  \n",
       "\n",
       "[5 rows x 41 columns]"
      ]
     },
     "execution_count": 6,
     "metadata": {},
     "output_type": "execute_result"
    }
   ],
   "source": [
    "data_ipf.head()"
   ]
  },
  {
   "cell_type": "code",
   "execution_count": 7,
   "id": "e7ad1773-884c-4bc7-8e22-30ffa5ab9aaf",
   "metadata": {},
   "outputs": [],
   "source": [
    "ipf_female = data_ipf[data_ipf['Sex'] == 'F']\n",
    "ipf_male = data_ipf[data_ipf['Sex'] == 'M']"
   ]
  },
  {
   "cell_type": "markdown",
   "id": "37037fd3-df35-49d5-a970-3c61df0c26f0",
   "metadata": {},
   "source": [
    "The next category of these events are age classes. Although the IPF age classes are dividied in the Division column, the documentation for the data recommends we still use the AgeClass column to do so "
   ]
  },
  {
   "cell_type": "code",
   "execution_count": 8,
   "id": "f1048e51-1929-4ace-b094-f6cc319d1927",
   "metadata": {},
   "outputs": [
    {
     "data": {
      "text/plain": [
       "array(['35-39', '24-34', nan, '45-49', '50-54', '40-44', '18-19', '13-15',\n",
       "       '16-17', '60-64', '20-23', '65-69', '55-59', '70-74', '75-79',\n",
       "       '5-12', '80-999'], dtype=object)"
      ]
     },
     "execution_count": 8,
     "metadata": {},
     "output_type": "execute_result"
    }
   ],
   "source": [
    "data_ipf['AgeClass'].unique()"
   ]
  },
  {
   "cell_type": "code",
   "execution_count": 9,
   "id": "9b773ed4-c780-4eb3-8621-bdd2740e50e3",
   "metadata": {},
   "outputs": [],
   "source": [
    "male_subjunior = ipf_male[(ipf_male['AgeClass'] == '16-17') | ((ipf_male['AgeClass'] == '13-15') & (ipf_male['Age'] >= 14))]"
   ]
  },
  {
   "cell_type": "code",
   "execution_count": 10,
   "id": "ab5a928a-b6cd-449b-8779-09795702d793",
   "metadata": {},
   "outputs": [],
   "source": [
    "male_junior = ipf_male[(ipf_male['AgeClass'] == '18-19') | (ipf_male['AgeClass'] == '20-23')]"
   ]
  },
  {
   "cell_type": "code",
   "execution_count": 11,
   "id": "35838aff-bdd8-4e32-b936-442c4808f53f",
   "metadata": {},
   "outputs": [],
   "source": [
    "male_master1 = ipf_male[(ipf_male['AgeClass'] == '40-44') | (ipf_male['AgeClass'] == '45-49')]"
   ]
  },
  {
   "cell_type": "code",
   "execution_count": 12,
   "id": "94c27f0f-7e04-4bd2-be7f-1786def47218",
   "metadata": {},
   "outputs": [],
   "source": [
    "male_master2 = ipf_male[(ipf_male['AgeClass'] == '50-54') | (ipf_male['AgeClass'] == '55-59')]"
   ]
  },
  {
   "cell_type": "code",
   "execution_count": null,
   "id": "3b39a025-3252-43f1-9751-f50b0b7e8f25",
   "metadata": {},
   "outputs": [],
   "source": []
  },
  {
   "cell_type": "code",
   "execution_count": 13,
   "id": "ff21d4eb-deb0-4bf5-bc60-e4b2bd1a7d22",
   "metadata": {},
   "outputs": [
    {
     "data": {
      "text/plain": [
       "<AxesSubplot:xlabel='BodyweightKg', ylabel='TotalKg'>"
      ]
     },
     "execution_count": 13,
     "metadata": {},
     "output_type": "execute_result"
    },
    {
     "data": {
      "image/png": "[encoded data removed]",
      "text/plain": [
       "<Figure size 432x288 with 1 Axes>"
      ]
     },
     "metadata": {
      "needs_background": "light"
     },
     "output_type": "display_data"
    }
   ],
   "source": [
    "male_subjunior.plot.scatter(x = 'BodyweightKg', y = 'TotalKg')"
   ]
  },
  {
   "cell_type": "code",
   "execution_count": 14,
   "id": "8538e461-9592-4704-af4b-1216b0e8da18",
   "metadata": {},
   "outputs": [
    {
     "data": {
      "text/plain": [
       "<AxesSubplot:xlabel='BodyweightKg', ylabel='Best3SquatKg'>"
      ]
     },
     "execution_count": 14,
     "metadata": {},
     "output_type": "execute_result"
    },
    {
     "data": {
      "image/png": "[encoded data removed]",
      "text/plain": [
       "<Figure size 432x288 with 1 Axes>"
      ]
     },
     "metadata": {
      "needs_background": "light"
     },
     "output_type": "display_data"
    }
   ],
   "source": [
    "male_junior.plot.scatter(x = 'BodyweightKg', y = 'Best3SquatKg')"
   ]
  },
  {
   "cell_type": "code",
   "execution_count": 15,
   "id": "33ffefd7-96ef-4e29-94b2-49ef010839a7",
   "metadata": {},
   "outputs": [
    {
     "data": {
      "text/plain": [
       "<AxesSubplot:xlabel='BodyweightKg', ylabel='TotalKg'>"
      ]
     },
     "execution_count": 15,
     "metadata": {},
     "output_type": "execute_result"
    },
    {
     "data": {
      "image/png": "[encoded data removed]",
      "text/plain": [
       "<Figure size 432x288 with 1 Axes>"
      ]
     },
     "metadata": {
      "needs_background": "light"
     },
     "output_type": "display_data"
    }
   ],
   "source": [
    "male_master2.plot.scatter(x = 'BodyweightKg', y = 'TotalKg')"
   ]
  },
  {
   "cell_type": "markdown",
   "id": "d6dd6c1d-2ac2-4d2c-8d51-69eaadfb1fbc",
   "metadata": {},
   "source": [
    "What events are lifters most likely to fail?\n",
    "Do lifters with equipment allowed tend to fail more on lifts?\n",
    "How has attendance increased for different genders and age groups?\n",
    "What category is the strongest?\n",
    "What is the distribution of weight for people in different weight classes (Do people tend to skim the top of the weightclass)?\n",
    "Prediction of successful lift and bodyweight\n",
    "When failing a lift, do athletes increase the weight or decrease the weight\n",
    "by weight (1 < 2 < 3 | 3 < 2 < 1 | some combo)"
   ]
  },
  {
   "cell_type": "markdown",
   "id": "a9d77819-eb0f-4205-8931-b4d30f4e21cf",
   "metadata": {},
   "source": [
    "We want to determine the failure rate of these events. "
   ]
  },
  {
   "cell_type": "code",
   "execution_count": 24,
   "id": "08574c0b-8f9c-4cfc-844b-d1a07d287520",
   "metadata": {},
   "outputs": [],
   "source": [
    "failed_squat = len(ipf_male[ipf_male['Squat1Kg'] < 0]) + len(ipf_male[ipf_male['Squat2Kg'] < 0]) + len(ipf_male[ipf_male['Squat3Kg'] < 0])"
   ]
  },
  {
   "cell_type": "code",
   "execution_count": 25,
   "id": "43130cd0-4ed0-4e4f-856a-fe95be45335b",
   "metadata": {},
   "outputs": [],
   "source": [
    "total_squat = len(ipf_male[(ipf_male['Squat1Kg'] >= 0) | (ipf_male['Squat1Kg'] < 0)]) + len(ipf_male[(ipf_male['Squat2Kg'] >= 0) | (ipf_male['Squat2Kg'] < 0)]) + len(ipf_male[(ipf_male['Squat3Kg'] >= 0) | (ipf_male['Squat3Kg'] < 0)])"
   ]
  },
  {
   "cell_type": "code",
   "execution_count": 27,
   "id": "65177690-3375-4e56-a38f-347bbae2df80",
   "metadata": {},
   "outputs": [
    {
     "data": {
      "text/plain": [
       "24.726595552597384"
      ]
     },
     "execution_count": 27,
     "metadata": {},
     "output_type": "execute_result"
    }
   ],
   "source": [
    "failed_squat / total_squat * 100"
   ]
  },
  {
   "cell_type": "code",
   "execution_count": 28,
   "id": "e34e06ea-b53d-4879-b3c3-660084262377",
   "metadata": {},
   "outputs": [],
   "source": [
    "failed_bench = len(ipf_male[ipf_male['Bench1Kg'] < 0]) + len(ipf_male[ipf_male['Bench2Kg'] < 0]) + len(ipf_male[ipf_male['Bench3Kg'] < 0])"
   ]
  },
  {
   "cell_type": "code",
   "execution_count": 30,
   "id": "9c102e7c-4ce3-474d-a2a1-e1c1877665d7",
   "metadata": {},
   "outputs": [],
   "source": [
    "total_bench = len(ipf_male[(ipf_male['Bench1Kg'] >= 0) | (ipf_male['Bench1Kg'] < 0)]) + len(ipf_male[(ipf_male['Bench2Kg'] >= 0) | (ipf_male['Bench2Kg'] < 0)]) + len(ipf_male[(ipf_male['Bench3Kg'] >= 0) | (ipf_male['Bench3Kg'] < 0)])"
   ]
  },
  {
   "cell_type": "code",
   "execution_count": 31,
   "id": "82a1c645-6a71-4069-988f-5d149914e2ef",
   "metadata": {},
   "outputs": [
    {
     "data": {
      "text/plain": [
       "31.064278667613404"
      ]
     },
     "execution_count": 31,
     "metadata": {},
     "output_type": "execute_result"
    }
   ],
   "source": [
    "failed_bench / total_bench * 100"
   ]
  },
  {
   "cell_type": "code",
   "execution_count": 33,
   "id": "0e203914-8ae2-432a-88b9-55e250eb3fb0",
   "metadata": {},
   "outputs": [],
   "source": [
    "failed_deadlift = len(ipf_male[ipf_male['Deadlift1Kg'] < 0]) + len(ipf_male[ipf_male['Deadlift2Kg'] < 0]) + len(ipf_male[ipf_male['Deadlift3Kg'] < 0])"
   ]
  },
  {
   "cell_type": "code",
   "execution_count": 34,
   "id": "fa1f4fa8-be36-407b-a569-0baaaa0cc8d7",
   "metadata": {},
   "outputs": [],
   "source": [
    "total_deadlift = len(ipf_male[(ipf_male['Deadlift1Kg'] >= 0) | (ipf_male['Deadlift1Kg'] < 0)]) + len(ipf_male[(ipf_male['Deadlift2Kg'] >= 0) | (ipf_male['Deadlift2Kg'] < 0)]) + len(ipf_male[(ipf_male['Deadlift3Kg'] >= 0) | (ipf_male['Deadlift3Kg'] < 0)])"
   ]
  },
  {
   "cell_type": "code",
   "execution_count": 35,
   "id": "dd425162-15da-4977-bee6-69f85524644e",
   "metadata": {},
   "outputs": [
    {
     "data": {
      "text/plain": [
       "21.78941153776458"
      ]
     },
     "execution_count": 35,
     "metadata": {},
     "output_type": "execute_result"
    }
   ],
   "source": [
    "failed_deadlift / total_deadlift * 100"
   ]
  },
  {
   "cell_type": "code",
   "execution_count": null,
   "id": "735959af-0f49-4ff5-88e0-66a85e97e5bd",
   "metadata": {},
   "outputs": [],
   "source": []
  }
 ],
 "metadata": {
  "kernelspec": {
   "display_name": "Python 3 (ipykernel)",
   "language": "python",
   "name": "python3"
  },
  "language_info": {
   "codemirror_mode": {
    "name": "ipython",
    "version": 3
   },
   "file_extension": ".py",
   "mimetype": "text/x-python",
   "name": "python",
   "nbconvert_exporter": "python",
   "pygments_lexer": "ipython3",
   "version": "3.9.7"
  }
 },
 "nbformat": 4,
 "nbformat_minor": 5
}
